{
 "cells": [
  {
   "cell_type": "code",
   "execution_count": 22,
   "metadata": {
    "scrolled": false
   },
   "outputs": [
    {
     "name": "stdout",
     "output_type": "stream",
     "text": [
      "(['usa', 'ussr'], 'Senior U.S. Arms control officials said they were optimistic the United States and Soviet Union could reach agreement on ways to verify a pact to eliminate medium-range nuclear missiles in Europe. Chief U.S. Arms control negotiator Max Kampelman said on the NBC television network a fair pact would be hard to negotiate, but, \"We are determined to do it.\" Assistant Secretary of Defence for international security policy Richard Perle said he thought the two sides could agree on a method to ensure each side was honouring a missile pact. President Reagan said on Friday that Secretary of State George Shultz would go to Moscow next month for talks on arms control and a possible U.S.-Soviet summit meeting. The decision to send Shultz to Moscow followed an announcement by Soviet leader Mikhael Gorbachev that he was willing to separate elimination of medium-range missiles in Europe from his demand for curbs on U.S. Development of a Strategic Defence Initiative (SDI) anti-missile system. Kampelman said the United States and the Soviet Union both had a general definition of so-called \"intrusive\" or on-site inspection of a pact, but details would be tough to work out. Reuter ')\n"
     ]
    }
   ],
   "source": [
    "import html\n",
    "import pprint\n",
    "import re\n",
    "from html.parser import HTMLParser\n",
    "\n",
    "\n",
    "class ReutersParser(HTMLParser):\n",
    "\n",
    "    def __init__(self, encoding='latin-1'):\n",
    "\n",
    "        html.parser.HTMLParser.__init__(self)\n",
    "        self._reset()\n",
    "        self.encoding = encoding\n",
    "\n",
    "    def _reset(self):\n",
    "        self.in_body = False\n",
    "        self.in_topics = False\n",
    "        self.in_topic_d = False\n",
    "        self.body = \"\"\n",
    "        self.topics = []\n",
    "        self.topic_d = \"\"\n",
    "\n",
    "    def parse(self, fd):\n",
    "\n",
    "        self.docs = []\n",
    "        for chunk in fd:\n",
    "            self.feed(chunk.decode(self.encoding))\n",
    "            for doc in self.docs:\n",
    "                yield doc\n",
    "            self.docs = []\n",
    "        self.close()\n",
    "\n",
    "    def handle_starttag(self, tag, attrs):\n",
    "\n",
    "        if tag == \"reuters\":\n",
    "            pass\n",
    "        elif tag == \"body\":\n",
    "            self.in_body = True\n",
    "        elif tag == \"topics\":\n",
    "            self.in_topics = True\n",
    "        elif tag == \"d\":\n",
    "            self.in_topic_d = True \n",
    "\n",
    "    def handle_endtag(self, tag):\n",
    "\n",
    "        if tag == \"reuters\":\n",
    "            self.body = re.sub(r'\\s+', r' ', self.body)\n",
    "            self.docs.append( (self.topics, self.body) )\n",
    "            self._reset()\n",
    "        elif tag == \"body\":\n",
    "            self.in_body = False\n",
    "        elif tag == \"topics\":\n",
    "            self.in_topics = False\n",
    "        elif tag == \"d\":\n",
    "            self.in_topic_d = False\n",
    "            self.topics.append(self.topic_d)\n",
    "            self.topic_d = \"\"  \n",
    "\n",
    "    def handle_data(self, data):\n",
    "\n",
    "        if self.in_body:\n",
    "            self.body += data\n",
    "        elif self.in_topic_d:\n",
    "            self.topic_d += data\n",
    "\n",
    "        \n",
    "if __name__ == \"__main__\":\n",
    "    # Open the first Reuters data set and create the parser\n",
    "    filename = \"reut2-003.sgm\"\n",
    "    parser = ReutersParser()\n",
    "\n",
    "    # Parse the document and force all generated docs into\n",
    "    # a list so that it can be printed out to the console\n",
    "    doc = parser.parse(open(filename, 'rb'))\n",
    "#    pprint.pprint(list(doc))\n",
    "    s= [result for result in list(doc)]\n",
    "    print(s[13])\n"
   ]
  },
  {
   "cell_type": "code",
   "execution_count": 26,
   "metadata": {},
   "outputs": [
    {
     "name": "stdout",
     "output_type": "stream",
     "text": [
      "(['acq', 'usa'], \"USAir Group Inc said Piedmont Aviation Inc has agreed to be acquired for 69 dlrs per share. The company, in a newspaper advertisement, said it has started a tender offer for all Piedmont shares at that price, and the Piedmont board, with two directors absent, has unanimously approved the bid. The offer and withdrawal rights are to expire April Three unless extended, and the bid is to be followed by a merger at the same price. USAir said Piedmont has granted it an irrevocable option to buy up to 3,491,030 new shares under certain circumstances. Piedmont now has about 18.6 mln shares outstanding. USAir said the tender is conditioned on receipt of enough shares to give USAir at least a 50.1 pct interest in Piedmont on a fully diluted basis and approval by the U.S. Department of Transportation of a voting trust agreement permitting USAir to buy and hold shares pending review of its application to gain control of Piedmont. The company said its merger agreement with Piedmont provides that the offer is not to be amended without Piedmont's prior written consent in any way that would be adverse to Piedmont shareholders, but it said it could cut the number of shares to be bought without Piedmont's consent. USAir said it could reduce the number of Piedmont shares to be purchased in the offer to no less than the minimum number needed to cause the voting trust condition of the bid to be satisfied. In that case, it said if more than that minimum number of shares were tendered, it would buy shares on a pro rata basis. In February USAir had offered to pay 71 dlrs per share in cash for 50 pct of Piedmont's stock and 1.55 to 1.90 USAir shares for each remaining Piedmont share. Last week, Carl C. Icahn-controlled Trans World Airlines Inc <TWA> made a conditional offer to acquire USAir for 52 dlrs per share, a bid that was rejected by the USAir board. The Transportation Department on Friday rejected TWA's application to acquire USAir on the grounds that the application failed to comply with department regulations by omitting necessary information. TWA said it would refile today, providing the information needed. On Friday TWA said it had already acquired four mln shares or 15 pct of USAir. Reuter \")\n"
     ]
    }
   ],
   "source": [
    "    print(s[12])"
   ]
  },
  {
   "cell_type": "code",
   "execution_count": 21,
   "metadata": {},
   "outputs": [
    {
     "data": {
      "text/plain": [
       "['money-fx', 'interest', 'france']"
      ]
     },
     "execution_count": 21,
     "metadata": {},
     "output_type": "execute_result"
    }
   ],
   "source": [
    "    for i in len(s):\n",
    "        if s[i][0][0]==\"\""
   ]
  },
  {
   "cell_type": "code",
   "execution_count": null,
   "metadata": {},
   "outputs": [],
   "source": []
  }
 ],
 "metadata": {
  "kernelspec": {
   "display_name": "Python 3",
   "language": "python",
   "name": "python3"
  },
  "language_info": {
   "codemirror_mode": {
    "name": "ipython",
    "version": 3
   },
   "file_extension": ".py",
   "mimetype": "text/x-python",
   "name": "python",
   "nbconvert_exporter": "python",
   "pygments_lexer": "ipython3",
   "version": "3.6.4"
  }
 },
 "nbformat": 4,
 "nbformat_minor": 2
}
